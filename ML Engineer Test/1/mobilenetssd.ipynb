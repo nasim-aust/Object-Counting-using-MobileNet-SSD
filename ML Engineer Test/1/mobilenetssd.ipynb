{
 "cells": [
  {
   "cell_type": "code",
   "execution_count": 1,
   "metadata": {},
   "outputs": [],
   "source": [
    "import sys\n",
    "import time\n",
    "import numpy as np\n",
    "import tensorflow as tf\n",
    "import cv2\n",
    "\n",
    "sys.path.append(\"..\")\n",
    "\n",
    "from utils import label_map_util\n",
    "from utils import visualization_utils_color as vis_util\n",
    "\n"
   ]
  },
  {
   "cell_type": "code",
   "execution_count": 3,
   "metadata": {},
   "outputs": [],
   "source": [
    "PATH_TO_CKPT = './model/frozen_inference_graph_face.pb'\n",
    "\n",
    "# List of the strings that is used to add correct label for each box.\n",
    "PATH_TO_LABELS = './protos/face_label_map.pbtxt'\n",
    "\n",
    "NUM_CLASSES = 2\n",
    "\n",
    "label_map = label_map_util.load_labelmap(PATH_TO_LABELS)\n",
    "categories = label_map_util.convert_label_map_to_categories(label_map, max_num_classes=NUM_CLASSES, use_display_name=True)\n",
    "category_index = label_map_util.create_category_index(categories)\n",
    "\n",
    "\n"
   ]
  },
  {
   "cell_type": "code",
   "execution_count": 7,
   "metadata": {},
   "outputs": [
    {
     "name": "stdout",
     "output_type": "stream",
     "text": [
      "inference time cost: 3.8558781147003174\n"
     ]
    }
   ],
   "source": [
    "def load_image_into_numpy_array(image):\n",
    "    (im_width, im_height) = image.size\n",
    "    return np.array(image.getdata()).reshape(\n",
    "      (im_height, im_width, 3)).astype(np.uint8)\n",
    "\n",
    "cap = cv2.VideoCapture(\"test.mp4\")\n",
    "out = None\n",
    "\n",
    "detection_graph = tf.Graph()\n",
    "with detection_graph.as_default():\n",
    "    od_graph_def = tf.GraphDef()\n",
    "    with tf.gfile.GFile(PATH_TO_CKPT, 'rb') as fid:\n",
    "        serialized_graph = fid.read()\n",
    "        od_graph_def.ParseFromString(serialized_graph)\n",
    "        tf.import_graph_def(od_graph_def, name='')\n",
    "\n",
    "with detection_graph.as_default():\n",
    "    config = tf.ConfigProto()\n",
    "    config.gpu_options.allow_growth = True\n",
    "    with tf.Session(graph=detection_graph, config=config) as sess:\n",
    "        frame_num = 1490;\n",
    "        while frame_num:\n",
    "            \n",
    "            frame_num -= 1\n",
    "            ret, image = cap.read()\n",
    "            if ret == 0:\n",
    "                break\n",
    "            if out is None:\n",
    "                [h, w] = image.shape[:2]\n",
    "                out = cv2.VideoWriter(\"test_out.avi\", 0, 25.0, (w, h))\n",
    "            image_np = cv2.cvtColor(image, cv2.COLOR_BGR2RGB)\n",
    "\n",
    "              # the array based representation of the image will be used later in order to prepare the\n",
    "              # result image with boxes and labels on it.\n",
    "              # Expand dimensions since the model expects images to have shape: [1, None, None, 3]\n",
    "            image_np_expanded = np.expand_dims(image_np, axis=0)\n",
    "            image_tensor = detection_graph.get_tensor_by_name('image_tensor:0')\n",
    "              # Each box represents a part of the image where a particular object was detected.\n",
    "            boxes = detection_graph.get_tensor_by_name('detection_boxes:0')\n",
    "              # Each score represent how level of confidence for each of the objects.\n",
    "              # Score is shown on the result image, together with the class label.\n",
    "            scores = detection_graph.get_tensor_by_name('detection_scores:0')\n",
    "            classes = detection_graph.get_tensor_by_name('detection_classes:0')\n",
    "            num_detections = detection_graph.get_tensor_by_name('num_detections:0')\n",
    "              # Actual detection.\n",
    "            start_time = time.time()\n",
    "            (boxes, scores, classes, num_detections) = sess.run(\n",
    "                  [boxes, scores, classes, num_detections],\n",
    "                  feed_dict={image_tensor: image_np_expanded})\n",
    "            elapsed_time = time.time() - start_time\n",
    "            print('inference time cost: {}'.format(elapsed_time))\n",
    "              #print(boxes.shape, boxes)\n",
    "              #print(scores.shape,scores)\n",
    "              #print(classes.shape,classes)\n",
    "              #print(num_detections)\n",
    "              # Visualization of the results of a detection.\n",
    "            vis_util.visualize_boxes_and_labels_on_image_array(\n",
    "        #          image_np,\n",
    "                  image,\n",
    "                  np.squeeze(boxes),\n",
    "                  np.squeeze(classes).astype(np.int32),\n",
    "                  np.squeeze(scores),\n",
    "                  category_index,\n",
    "                  use_normalized_coordinates=True,\n",
    "                  line_thickness=4)\n",
    "            out.write(image)\n",
    "        cap.release()\n",
    "        out.release()"
   ]
  },
  {
   "cell_type": "code",
   "execution_count": null,
   "metadata": {},
   "outputs": [],
   "source": []
  }
 ],
 "metadata": {
  "kernelspec": {
   "display_name": "Python 3",
   "language": "python",
   "name": "python3"
  },
  "language_info": {
   "codemirror_mode": {
    "name": "ipython",
    "version": 3
   },
   "file_extension": ".py",
   "mimetype": "text/x-python",
   "name": "python",
   "nbconvert_exporter": "python",
   "pygments_lexer": "ipython3",
   "version": "3.6.4"
  }
 },
 "nbformat": 4,
 "nbformat_minor": 2
}
