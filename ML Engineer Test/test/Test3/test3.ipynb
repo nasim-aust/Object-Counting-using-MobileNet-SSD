{
 "cells": [
  {
   "cell_type": "code",
   "execution_count": 1,
   "metadata": {},
   "outputs": [
    {
     "name": "stderr",
     "output_type": "stream",
     "text": [
      "Using TensorFlow backend.\n",
      "WARNING: Logging before flag parsing goes to stderr.\n",
      "W1012 17:53:17.721658 22432 deprecation_wrapper.py:119] From c:\\users\\nasim\\anaconda3\\envs\\mahim\\lib\\site-packages\\keras\\backend\\tensorflow_backend.py:4070: The name tf.nn.max_pool is deprecated. Please use tf.nn.max_pool2d instead.\n",
      "\n",
      "c:\\users\\nasim\\anaconda3\\envs\\mahim\\lib\\site-packages\\keras_applications\\resnet50.py:265: UserWarning: The output shape of `ResNet50(include_top=False)` has been changed since Keras 2.2.0.\n",
      "  warnings.warn('The output shape of `ResNet50(include_top=False)` '\n"
     ]
    }
   ],
   "source": [
    "from keras.applications.resnet50 import ResNet50\n",
    "from keras.preprocessing import image\n",
    "from keras.applications.resnet50 import preprocess_input, decode_predictions\n",
    "import numpy as np\n",
    "import numpy as np\n",
    "import pandas as pd\n",
    "import matplotlib.pyplot as plt\n",
    "import keras\n",
    "from keras import models, layers, losses, optimizers, metrics\n",
    "conv_base = ResNet50(weights='imagenet', include_top=False, input_shape=(224, 224, 3))\n"
   ]
  },
  {
   "cell_type": "code",
   "execution_count": 2,
   "metadata": {},
   "outputs": [],
   "source": [
    "from keras.layers import Dense,Dropout,Flatten\n",
    "model = models.Sequential()\n",
    "model.add(conv_base)\n",
    "conv_base.trainable = False\n",
    "model.add(Flatten())\n",
    "model.add(layers.Dense(128, activation= 'relu' ))\n",
    "model.add(layers.Dense(64, activation= 'relu' ))\n",
    "model.add(layers.Dense(3, activation= 'softmax' ))\n",
    "model.compile(loss= 'categorical_crossentropy' , optimizer= 'adam' , metrics=[ 'accuracy' ])"
   ]
  },
  {
   "cell_type": "code",
   "execution_count": 3,
   "metadata": {},
   "outputs": [
    {
     "name": "stdout",
     "output_type": "stream",
     "text": [
      "Model: \"sequential_1\"\n",
      "_________________________________________________________________\n",
      "Layer (type)                 Output Shape              Param #   \n",
      "=================================================================\n",
      "resnet50 (Model)             (None, 7, 7, 2048)        23587712  \n",
      "_________________________________________________________________\n",
      "flatten_1 (Flatten)          (None, 100352)            0         \n",
      "_________________________________________________________________\n",
      "dense_1 (Dense)              (None, 128)               12845184  \n",
      "_________________________________________________________________\n",
      "dense_2 (Dense)              (None, 64)                8256      \n",
      "_________________________________________________________________\n",
      "dense_3 (Dense)              (None, 3)                 195       \n",
      "=================================================================\n",
      "Total params: 36,441,347\n",
      "Trainable params: 12,853,635\n",
      "Non-trainable params: 23,587,712\n",
      "_________________________________________________________________\n"
     ]
    }
   ],
   "source": [
    "model.summary()"
   ]
  },
  {
   "cell_type": "code",
   "execution_count": 7,
   "metadata": {},
   "outputs": [
    {
     "name": "stdout",
     "output_type": "stream",
     "text": [
      "Found 120 images belonging to 3 classes.\n",
      "Found 12 images belonging to 3 classes.\n"
     ]
    },
    {
     "name": "stderr",
     "output_type": "stream",
     "text": [
      "c:\\users\\nasim\\anaconda3\\envs\\mahim\\lib\\site-packages\\ipykernel_launcher.py:30: UserWarning: Update your `fit_generator` call to the Keras 2 API: `fit_generator(<keras.pre..., epochs=10, validation_data=<keras.pre..., callbacks=[<keras.ca..., steps_per_epoch=1)`\n"
     ]
    },
    {
     "name": "stdout",
     "output_type": "stream",
     "text": [
      "Epoch 1/10\n",
      "1/1 [==============================] - 3s 3s/step - loss: 0.0000e+00 - accuracy: 1.0000 - val_loss: 9.4492 - val_accuracy: 0.3333\n",
      "Epoch 2/10\n",
      "1/1 [==============================] - 1s 650ms/step - loss: 0.0000e+00 - accuracy: 1.0000 - val_loss: 9.3976 - val_accuracy: 0.3333\n",
      "Epoch 3/10\n",
      "1/1 [==============================] - 1s 1s/step - loss: 0.0000e+00 - accuracy: 1.0000 - val_loss: 9.3787 - val_accuracy: 0.3333\n",
      "Epoch 4/10\n",
      "1/1 [==============================] - 1s 1s/step - loss: 0.0000e+00 - accuracy: 1.0000 - val_loss: 9.3880 - val_accuracy: 0.3333\n",
      "Epoch 5/10\n",
      "1/1 [==============================] - 1s 1s/step - loss: 0.0000e+00 - accuracy: 1.0000 - val_loss: 9.4131 - val_accuracy: 0.3333\n",
      "Epoch 6/10\n",
      "1/1 [==============================] - 1s 1s/step - loss: 0.0000e+00 - accuracy: 1.0000 - val_loss: 9.4632 - val_accuracy: 0.3333\n",
      "Epoch 7/10\n",
      "1/1 [==============================] - 1s 1s/step - loss: 0.0000e+00 - accuracy: 1.0000 - val_loss: 9.5377 - val_accuracy: 0.2500\n",
      "Epoch 8/10\n",
      "1/1 [==============================] - 1s 1s/step - loss: 0.0000e+00 - accuracy: 1.0000 - val_loss: 9.6277 - val_accuracy: 0.0000e+00\n",
      "Epoch 9/10\n",
      "1/1 [==============================] - 1s 1s/step - loss: 0.0000e+00 - accuracy: 1.0000 - val_loss: 9.7273 - val_accuracy: 0.0833\n",
      "Epoch 10/10\n",
      "1/1 [==============================] - 1s 1s/step - loss: 0.0000e+00 - accuracy: 1.0000 - val_loss: 9.8305 - val_accuracy: 0.1667\n"
     ]
    },
    {
     "data": {
      "text/plain": [
       "<keras.callbacks.callbacks.History at 0x178f6501548>"
      ]
     },
     "execution_count": 7,
     "metadata": {},
     "output_type": "execute_result"
    }
   ],
   "source": [
    "from keras.preprocessing.image import ImageDataGenerator\n",
    "from keras.callbacks import ModelCheckpoint\n",
    "train_datagen = ImageDataGenerator(\n",
    "        rescale=1./255,\n",
    "        shear_range=0.2,\n",
    "        zoom_range=0.2,\n",
    "        horizontal_flip=True)\n",
    "\n",
    "test_datagen = ImageDataGenerator(rescale=1./255)\n",
    "\n",
    "train_generator = train_datagen.flow_from_directory(\n",
    "        'dataset/train',\n",
    "        target_size=(224, 224),\n",
    "        batch_size=20,\n",
    "        class_mode='categorical')\n",
    "\n",
    "validation_generator = test_datagen.flow_from_directory(\n",
    "        'dataset/test',\n",
    "        target_size=(224, 224),\n",
    "        batch_size=12,\n",
    "        class_mode='categorical')\n",
    "check  = ModelCheckpoint('best.hdf5', monitor = 'val_categorical_accuracy' )\n",
    "checkpoints = [check]\n",
    "\n",
    "model.fit_generator(\n",
    "        train_generator,\n",
    "        samples_per_epoch=120,\n",
    "        epochs=10,\n",
    "        validation_data=validation_generator,\n",
    "        callbacks = checkpoints\n",
    "        )"
   ]
  },
  {
   "cell_type": "code",
   "execution_count": 13,
   "metadata": {},
   "outputs": [
    {
     "name": "stderr",
     "output_type": "stream",
     "text": [
      "c:\\users\\nasim\\anaconda3\\envs\\mahim\\lib\\site-packages\\ipykernel_launcher.py:11: UserWarning: Update your `Conv2D` call to the Keras 2 API: `Conv2D(64, (3, 3), input_shape=(224, 224,..., activation=\"relu\", padding=\"valid\")`\n",
      "  # This is added back by InteractiveShellApp.init_path()\n",
      "c:\\users\\nasim\\anaconda3\\envs\\mahim\\lib\\site-packages\\ipykernel_launcher.py:12: UserWarning: Update your `Conv2D` call to the Keras 2 API: `Conv2D(64, (3, 3), activation=\"relu\", padding=\"valid\")`\n",
      "  if sys.path[0] == '':\n",
      "c:\\users\\nasim\\anaconda3\\envs\\mahim\\lib\\site-packages\\ipykernel_launcher.py:15: UserWarning: Update your `Conv2D` call to the Keras 2 API: `Conv2D(32, (3, 3), activation=\"relu\", padding=\"valid\")`\n",
      "  from ipykernel import kernelapp as app\n",
      "c:\\users\\nasim\\anaconda3\\envs\\mahim\\lib\\site-packages\\ipykernel_launcher.py:16: UserWarning: Update your `Conv2D` call to the Keras 2 API: `Conv2D(32, (3, 3), activation=\"relu\", padding=\"valid\")`\n",
      "  app.launch_new_instance()\n",
      "c:\\users\\nasim\\anaconda3\\envs\\mahim\\lib\\site-packages\\ipykernel_launcher.py:19: UserWarning: Update your `Conv2D` call to the Keras 2 API: `Conv2D(16, (3, 3), activation=\"relu\", padding=\"valid\")`\n",
      "c:\\users\\nasim\\anaconda3\\envs\\mahim\\lib\\site-packages\\ipykernel_launcher.py:20: UserWarning: Update your `Conv2D` call to the Keras 2 API: `Conv2D(16, (3, 3), activation=\"relu\", padding=\"valid\")`\n",
      "c:\\users\\nasim\\anaconda3\\envs\\mahim\\lib\\site-packages\\ipykernel_launcher.py:23: UserWarning: Update your `Conv2D` call to the Keras 2 API: `Conv2D(8, (3, 3), activation=\"relu\", padding=\"valid\")`\n",
      "c:\\users\\nasim\\anaconda3\\envs\\mahim\\lib\\site-packages\\ipykernel_launcher.py:24: UserWarning: Update your `Conv2D` call to the Keras 2 API: `Conv2D(8, (3, 3), activation=\"relu\", padding=\"valid\")`\n"
     ]
    },
    {
     "name": "stdout",
     "output_type": "stream",
     "text": [
      "Model: \"sequential_7\"\n",
      "_________________________________________________________________\n",
      "Layer (type)                 Output Shape              Param #   \n",
      "=================================================================\n",
      "conv2d_41 (Conv2D)           (None, 222, 222, 64)      1792      \n",
      "_________________________________________________________________\n",
      "conv2d_42 (Conv2D)           (None, 220, 220, 64)      36928     \n",
      "_________________________________________________________________\n",
      "max_pooling2d_22 (MaxPooling (None, 110, 110, 64)      0         \n",
      "_________________________________________________________________\n",
      "conv2d_43 (Conv2D)           (None, 108, 108, 32)      18464     \n",
      "_________________________________________________________________\n",
      "conv2d_44 (Conv2D)           (None, 106, 106, 32)      9248      \n",
      "_________________________________________________________________\n",
      "max_pooling2d_23 (MaxPooling (None, 53, 53, 32)        0         \n",
      "_________________________________________________________________\n",
      "conv2d_45 (Conv2D)           (None, 51, 51, 16)        4624      \n",
      "_________________________________________________________________\n",
      "conv2d_46 (Conv2D)           (None, 49, 49, 16)        2320      \n",
      "_________________________________________________________________\n",
      "max_pooling2d_24 (MaxPooling (None, 24, 24, 16)        0         \n",
      "_________________________________________________________________\n",
      "conv2d_47 (Conv2D)           (None, 22, 22, 8)         1160      \n",
      "_________________________________________________________________\n",
      "conv2d_48 (Conv2D)           (None, 20, 20, 8)         584       \n",
      "_________________________________________________________________\n",
      "max_pooling2d_25 (MaxPooling (None, 10, 10, 8)         0         \n",
      "_________________________________________________________________\n",
      "flatten_7 (Flatten)          (None, 800)               0         \n",
      "_________________________________________________________________\n",
      "dense_24 (Dense)             (None, 256)               205056    \n",
      "_________________________________________________________________\n",
      "dense_25 (Dense)             (None, 128)               32896     \n",
      "_________________________________________________________________\n",
      "dense_26 (Dense)             (None, 64)                8256      \n",
      "_________________________________________________________________\n",
      "dense_27 (Dense)             (None, 3)                 195       \n",
      "=================================================================\n",
      "Total params: 321,523\n",
      "Trainable params: 321,523\n",
      "Non-trainable params: 0\n",
      "_________________________________________________________________\n"
     ]
    }
   ],
   "source": [
    "import numpy as np\n",
    "from keras.models import Sequential\n",
    "from keras.layers import Dense,Dropout,Flatten\n",
    "from keras.layers.convolutional import Convolution2D,MaxPooling2D\n",
    "from keras.callbacks import ModelCheckpoint\n",
    "from keras import backend as K\n",
    "def CNN_model():\n",
    "    # create model\n",
    "    model = Sequential()\n",
    "   # model.add(Dropout(0.2))\n",
    "    model.add(Convolution2D(64, 3, 3, border_mode= 'valid',  input_shape=(224,224,3),activation= 'relu' ))\n",
    "    model.add(Convolution2D(64, 3, 3, border_mode= 'valid',activation= 'relu' ))\n",
    "    model.add(MaxPooling2D(pool_size=(2, 2)))\n",
    "    \n",
    "    model.add(Convolution2D(32, 3, 3, border_mode= 'valid',activation= 'relu' ))\n",
    "    model.add(Convolution2D(32, 3, 3, border_mode= 'valid',activation= 'relu' ))\n",
    "    model.add(MaxPooling2D(pool_size=(2, 2)))\n",
    "    \n",
    "    model.add(Convolution2D(16, 3, 3, border_mode= 'valid',activation= 'relu' ))\n",
    "    model.add(Convolution2D(16, 3, 3, border_mode= 'valid',activation= 'relu' ))\n",
    "    model.add(MaxPooling2D(pool_size=(2, 2)))\n",
    "    \n",
    "    model.add(Convolution2D(8, 3, 3, border_mode= 'valid',activation= 'relu' ))\n",
    "    model.add(Convolution2D(8, 3, 3, border_mode= 'valid',activation= 'relu' ))\n",
    "    model.add(MaxPooling2D(pool_size=(2, 2)))\n",
    "    \n",
    "    model.add(Flatten())\n",
    "    model.add(Dense(256, activation= 'relu' ))\n",
    "    model.add(Dense(128, activation= 'relu' ))\n",
    "    model.add(Dense(64, activation= 'relu' ))\n",
    "    model.add(Dense(3, activation= 'softmax' ))\n",
    "    # Compile model\n",
    "    model.compile(loss= 'categorical_crossentropy' , optimizer= 'adam' , metrics=[ 'accuracy' ])\n",
    "    return model\n",
    "\n",
    "model = CNN_model()\n",
    "\n",
    "model.summary()\n",
    "\n",
    "check  = ModelCheckpoint('best.hdf5', monitor = 'val_categorical_accuracy' )\n",
    "checkpoints = [check]"
   ]
  },
  {
   "cell_type": "code",
   "execution_count": 15,
   "metadata": {},
   "outputs": [
    {
     "name": "stdout",
     "output_type": "stream",
     "text": [
      "Found 120 images belonging to 3 classes.\n",
      "Found 12 images belonging to 3 classes.\n"
     ]
    },
    {
     "name": "stderr",
     "output_type": "stream",
     "text": [
      "c:\\users\\nasim\\anaconda3\\envs\\mahim\\lib\\site-packages\\ipykernel_launcher.py:11: UserWarning: Update your `Conv2D` call to the Keras 2 API: `Conv2D(64, (3, 3), input_shape=(224, 224,..., activation=\"relu\", padding=\"valid\")`\n",
      "  # This is added back by InteractiveShellApp.init_path()\n",
      "c:\\users\\nasim\\anaconda3\\envs\\mahim\\lib\\site-packages\\ipykernel_launcher.py:12: UserWarning: Update your `Conv2D` call to the Keras 2 API: `Conv2D(64, (3, 3), activation=\"relu\", padding=\"valid\")`\n",
      "  if sys.path[0] == '':\n",
      "c:\\users\\nasim\\anaconda3\\envs\\mahim\\lib\\site-packages\\ipykernel_launcher.py:15: UserWarning: Update your `Conv2D` call to the Keras 2 API: `Conv2D(32, (3, 3), activation=\"relu\", padding=\"valid\")`\n",
      "  from ipykernel import kernelapp as app\n",
      "c:\\users\\nasim\\anaconda3\\envs\\mahim\\lib\\site-packages\\ipykernel_launcher.py:16: UserWarning: Update your `Conv2D` call to the Keras 2 API: `Conv2D(32, (3, 3), activation=\"relu\", padding=\"valid\")`\n",
      "  app.launch_new_instance()\n",
      "c:\\users\\nasim\\anaconda3\\envs\\mahim\\lib\\site-packages\\ipykernel_launcher.py:19: UserWarning: Update your `Conv2D` call to the Keras 2 API: `Conv2D(16, (3, 3), activation=\"relu\", padding=\"valid\")`\n",
      "c:\\users\\nasim\\anaconda3\\envs\\mahim\\lib\\site-packages\\ipykernel_launcher.py:20: UserWarning: Update your `Conv2D` call to the Keras 2 API: `Conv2D(16, (3, 3), activation=\"relu\", padding=\"valid\")`\n",
      "c:\\users\\nasim\\anaconda3\\envs\\mahim\\lib\\site-packages\\ipykernel_launcher.py:23: UserWarning: Update your `Conv2D` call to the Keras 2 API: `Conv2D(8, (3, 3), activation=\"relu\", padding=\"valid\")`\n",
      "c:\\users\\nasim\\anaconda3\\envs\\mahim\\lib\\site-packages\\ipykernel_launcher.py:24: UserWarning: Update your `Conv2D` call to the Keras 2 API: `Conv2D(8, (3, 3), activation=\"relu\", padding=\"valid\")`\n"
     ]
    },
    {
     "name": "stdout",
     "output_type": "stream",
     "text": [
      "Model: \"sequential_9\"\n",
      "_________________________________________________________________\n",
      "Layer (type)                 Output Shape              Param #   \n",
      "=================================================================\n",
      "conv2d_57 (Conv2D)           (None, 222, 222, 64)      1792      \n",
      "_________________________________________________________________\n",
      "conv2d_58 (Conv2D)           (None, 220, 220, 64)      36928     \n",
      "_________________________________________________________________\n",
      "max_pooling2d_30 (MaxPooling (None, 110, 110, 64)      0         \n",
      "_________________________________________________________________\n",
      "conv2d_59 (Conv2D)           (None, 108, 108, 32)      18464     \n",
      "_________________________________________________________________\n",
      "conv2d_60 (Conv2D)           (None, 106, 106, 32)      9248      \n",
      "_________________________________________________________________\n",
      "max_pooling2d_31 (MaxPooling (None, 53, 53, 32)        0         \n",
      "_________________________________________________________________\n",
      "conv2d_61 (Conv2D)           (None, 51, 51, 16)        4624      \n",
      "_________________________________________________________________\n",
      "conv2d_62 (Conv2D)           (None, 49, 49, 16)        2320      \n",
      "_________________________________________________________________\n",
      "max_pooling2d_32 (MaxPooling (None, 24, 24, 16)        0         \n",
      "_________________________________________________________________\n",
      "conv2d_63 (Conv2D)           (None, 22, 22, 8)         1160      \n",
      "_________________________________________________________________\n",
      "conv2d_64 (Conv2D)           (None, 20, 20, 8)         584       \n",
      "_________________________________________________________________\n",
      "max_pooling2d_33 (MaxPooling (None, 10, 10, 8)         0         \n",
      "_________________________________________________________________\n",
      "flatten_9 (Flatten)          (None, 800)               0         \n",
      "_________________________________________________________________\n",
      "dense_32 (Dense)             (None, 256)               205056    \n",
      "_________________________________________________________________\n",
      "dense_33 (Dense)             (None, 128)               32896     \n",
      "_________________________________________________________________\n",
      "dense_34 (Dense)             (None, 64)                8256      \n",
      "_________________________________________________________________\n",
      "dense_35 (Dense)             (None, 3)                 195       \n",
      "=================================================================\n",
      "Total params: 321,523\n",
      "Trainable params: 321,523\n",
      "Non-trainable params: 0\n",
      "_________________________________________________________________\n"
     ]
    },
    {
     "name": "stderr",
     "output_type": "stream",
     "text": [
      "c:\\users\\nasim\\anaconda3\\envs\\mahim\\lib\\site-packages\\ipykernel_launcher.py:32: UserWarning: Update your `fit_generator` call to the Keras 2 API: `fit_generator(<keras.pre..., epochs=10, validation_data=<keras.pre..., validation_steps=12, callbacks=[<keras.ca..., steps_per_epoch=6)`\n"
     ]
    },
    {
     "name": "stdout",
     "output_type": "stream",
     "text": [
      "Epoch 1/10\n",
      "6/6 [==============================] - 2s 387ms/step - loss: 1.0978 - accuracy: 0.3083 - val_loss: 1.0829 - val_accuracy: 0.3333\n",
      "Epoch 2/10\n",
      "6/6 [==============================] - 2s 308ms/step - loss: 1.0353 - accuracy: 0.5083 - val_loss: 0.8496 - val_accuracy: 0.5833\n",
      "Epoch 3/10\n",
      "6/6 [==============================] - 2s 313ms/step - loss: 0.7920 - accuracy: 0.6000 - val_loss: 0.5471 - val_accuracy: 0.6667\n",
      "Epoch 4/10\n",
      "6/6 [==============================] - 2s 314ms/step - loss: 0.3614 - accuracy: 0.8750 - val_loss: 0.2266 - val_accuracy: 1.0000\n",
      "Epoch 5/10\n",
      "6/6 [==============================] - 2s 317ms/step - loss: 0.0604 - accuracy: 1.0000 - val_loss: 1.4454e-04 - val_accuracy: 1.0000\n",
      "Epoch 6/10\n",
      "6/6 [==============================] - 2s 307ms/step - loss: 0.0082 - accuracy: 1.0000 - val_loss: 4.6690e-07 - val_accuracy: 1.0000\n",
      "Epoch 7/10\n",
      "6/6 [==============================] - 2s 302ms/step - loss: 0.0627 - accuracy: 0.9750 - val_loss: 1.1274e-04 - val_accuracy: 1.0000\n",
      "Epoch 8/10\n",
      "6/6 [==============================] - 2s 319ms/step - loss: 0.0654 - accuracy: 0.9833 - val_loss: 0.0370 - val_accuracy: 1.0000\n",
      "Epoch 9/10\n",
      "6/6 [==============================] - 2s 304ms/step - loss: 0.0136 - accuracy: 1.0000 - val_loss: 0.0080 - val_accuracy: 1.0000\n",
      "Epoch 10/10\n",
      "6/6 [==============================] - 2s 304ms/step - loss: 0.0030 - accuracy: 1.0000 - val_loss: 0.0060 - val_accuracy: 1.0000\n"
     ]
    },
    {
     "data": {
      "text/plain": [
       "<keras.callbacks.callbacks.History at 0x178f4ec6348>"
      ]
     },
     "execution_count": 15,
     "metadata": {},
     "output_type": "execute_result"
    }
   ],
   "source": [
    "from keras.preprocessing.image import ImageDataGenerator\n",
    "train_datagen = ImageDataGenerator(\n",
    "        rescale=1./255,\n",
    "        shear_range=0.2,\n",
    "        zoom_range=0.2,\n",
    "        horizontal_flip=True)\n",
    "\n",
    "test_datagen = ImageDataGenerator(rescale=1./255)\n",
    "\n",
    "train_generator = train_datagen.flow_from_directory(\n",
    "        'dataset/train',\n",
    "        target_size=(224, 224),\n",
    "        batch_size=20,\n",
    "        class_mode='categorical')\n",
    "\n",
    "validation_generator = test_datagen.flow_from_directory(\n",
    "        'dataset/test',\n",
    "        target_size=(224, 224),\n",
    "        batch_size=12,\n",
    "        class_mode='categorical')\n",
    "model = CNN_model()\n",
    "model.summary()\n",
    "check  = ModelCheckpoint('best.hdf5', monitor = 'val_categorical_accuracy' )\n",
    "checkpoints = [check]\n",
    "\n",
    "model.fit_generator(\n",
    "        train_generator,\n",
    "        samples_per_epoch=120,\n",
    "        epochs=10,\n",
    "        validation_data=validation_generator,\n",
    "        validation_steps = 12, \n",
    "        callbacks = checkpoints\n",
    "        )"
   ]
  },
  {
   "cell_type": "code",
   "execution_count": null,
   "metadata": {},
   "outputs": [],
   "source": []
  }
 ],
 "metadata": {
  "kernelspec": {
   "display_name": "Python 3",
   "language": "python",
   "name": "python3"
  },
  "language_info": {
   "codemirror_mode": {
    "name": "ipython",
    "version": 3
   },
   "file_extension": ".py",
   "mimetype": "text/x-python",
   "name": "python",
   "nbconvert_exporter": "python",
   "pygments_lexer": "ipython3",
   "version": "3.7.4"
  }
 },
 "nbformat": 4,
 "nbformat_minor": 2
}
